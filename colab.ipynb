{
 "cells": [
  {
   "cell_type": "code",
   "execution_count": 1,
   "metadata": {
    "pycharm": {
     "name": "#%%\n"
    }
   },
   "outputs": [
    {
     "name": "stdout",
     "output_type": "stream",
     "text": [
      "’ҐЄгй п Є®¤®ў п бва ­Ёж : 1251\n",
      "Tue Apr 19 00:10:10 2022       \n",
      "+-----------------------------------------------------------------------------+\n",
      "| NVIDIA-SMI 511.65       Driver Version: 511.65       CUDA Version: 11.6     |\n",
      "|-------------------------------+----------------------+----------------------+\n",
      "| GPU  Name            TCC/WDDM | Bus-Id        Disp.A | Volatile Uncorr. ECC |\n",
      "| Fan  Temp  Perf  Pwr:Usage/Cap|         Memory-Usage | GPU-Util  Compute M. |\n",
      "|                               |                      |               MIG M. |\n",
      "|===============================+======================+======================|\n",
      "|   0  NVIDIA GeForce ... WDDM  | 00000000:01:00.0 Off |                  N/A |\n",
      "| N/A   48C    P8    N/A /  N/A |      0MiB /  2048MiB |      0%      Default |\n",
      "|                               |                      |                  N/A |\n",
      "+-------------------------------+----------------------+----------------------+\n",
      "                                                                               \n",
      "+-----------------------------------------------------------------------------+\n",
      "| Processes:                                                                  |\n",
      "|  GPU   GI   CI        PID   Type   Process name                  GPU Memory |\n",
      "|        ID   ID                                                   Usage      |\n",
      "|=============================================================================|\n",
      "|  No running processes found                                                 |\n",
      "+-----------------------------------------------------------------------------+\n"
     ]
    }
   ],
   "source": [
    "!nvidia-smi"
   ]
  },
  {
   "cell_type": "code",
   "execution_count": 2,
   "metadata": {
    "pycharm": {
     "name": "#%%\n"
    }
   },
   "outputs": [
    {
     "name": "stdout",
     "output_type": "stream",
     "text": [
      "’ҐЄгй п Є®¤®ў п бва ­Ёж : 1251\n",
      "Note: you may need to restart the kernel to use updated packages.\n",
      "Setup complete. Using torch 1.11.0+cpu (CPU)\n"
     ]
    }
   ],
   "source": [
    "%pip install -q yolov5\n",
    "\n",
    "import torch\n",
    "\n",
    "print(\n",
    "    f'Setup complete. Using torch {torch.__version__} '\n",
    "    f'({torch.cuda.get_device_properties(0).name if torch.cuda.is_available() else \"CPU\"})'\n",
    ")"
   ]
  },
  {
   "cell_type": "code",
   "execution_count": 2,
   "metadata": {
    "pycharm": {
     "name": "#%%\n"
    }
   },
   "outputs": [],
   "source": [
    "from yolov5 import train"
   ]
  },
  {
   "cell_type": "code",
   "execution_count": 3,
   "metadata": {
    "pycharm": {
     "name": "#%%\n"
    }
   },
   "outputs": [
    {
     "name": "stderr",
     "output_type": "stream",
     "text": [
      "\u001B[34m\u001B[1mtrain: \u001B[0mweights=yolov5s.pt, cfg=, data=data/proc/yolo/00_zombie/data.yaml, hyp=, epochs=1, batch_size=16, imgsz=416, rect=False, resume=False, nosave=False, noval=False, noautoanchor=False, evolve=None, bucket=, cache=None, image_weights=False, device=, multi_scale=False, single_cls=True, optimizer=SGD, sync_bn=False, workers=8, project=out/models/yolov5/runs/train, name=exp, exist_ok=False, quad=False, cos_lr=False, label_smoothing=0.0, patience=100, freeze=[0], save_period=-1, local_rank=-1, mmdet_tags=False, entity=None, bbox_interval=-1, artifact_alias=latest, neptune_token=None, neptune_project=None, s3_upload_dir=None, upload_dataset=False\n",
      "YOLOv5  torch 1.11.0+cpu CPU\n",
      "\n",
      "\u001B[34m\u001B[1mhyperparameters: \u001B[0mlr0=0.0032, lrf=0.12, momentum=0.843, weight_decay=0.00036, warmup_epochs=2.0, warmup_momentum=0.5, warmup_bias_lr=0.05, box=0.0296, cls=0.243, cls_pw=0.631, obj=0.301, obj_pw=0.911, iou_t=0.2, anchor_t=2.91, fl_gamma=0.0, hsv_h=0.0138, hsv_s=0.664, hsv_v=0.464, degrees=0.373, translate=0.245, scale=0.898, shear=0.602, perspective=0.0, flipud=0.00856, fliplr=0.5, mosaic=1.0, mixup=0.243, copy_paste=0.0\n",
      "\u001B[34m\u001B[1mWeights & Biases: \u001B[0mrun 'pip install wandb' to automatically track and visualize YOLOv5  runs (RECOMMENDED)\n",
      "\u001B[34m\u001B[1mNeptune AI: \u001B[0mrun 'pip install neptune-client' to automatically track and visualize YOLOv5  runs\n",
      "\u001B[34m\u001B[1mTensorBoard: \u001B[0mStart with 'tensorboard --logdir out\\models\\yolov5\\runs\\train', view at http://localhost:6006/\n",
      "Overriding model.yaml nc=80 with nc=1\n",
      "\n",
      "                 from  n    params  module                                  arguments                     \n",
      "  0                -1  1      3520  yolov5.models.common.Conv               [3, 32, 6, 2, 2]              \n",
      "  1                -1  1     18560  yolov5.models.common.Conv               [32, 64, 3, 2]                \n",
      "  2                -1  1     18816  yolov5.models.common.C3                 [64, 64, 1]                   \n",
      "  3                -1  1     73984  yolov5.models.common.Conv               [64, 128, 3, 2]               \n",
      "  4                -1  2    115712  yolov5.models.common.C3                 [128, 128, 2]                 \n",
      "  5                -1  1    295424  yolov5.models.common.Conv               [128, 256, 3, 2]              \n",
      "  6                -1  3    625152  yolov5.models.common.C3                 [256, 256, 3]                 \n",
      "  7                -1  1   1180672  yolov5.models.common.Conv               [256, 512, 3, 2]              \n",
      "  8                -1  1   1182720  yolov5.models.common.C3                 [512, 512, 1]                 \n",
      "  9                -1  1    656896  yolov5.models.common.SPPF               [512, 512, 5]                 \n",
      " 10                -1  1    131584  yolov5.models.common.Conv               [512, 256, 1, 1]              \n",
      " 11                -1  1         0  torch.nn.modules.upsampling.Upsample    [None, 2, 'nearest']          \n",
      " 12           [-1, 6]  1         0  yolov5.models.common.Concat             [1]                           \n",
      " 13                -1  1    361984  yolov5.models.common.C3                 [512, 256, 1, False]          \n",
      " 14                -1  1     33024  yolov5.models.common.Conv               [256, 128, 1, 1]              \n",
      " 15                -1  1         0  torch.nn.modules.upsampling.Upsample    [None, 2, 'nearest']          \n",
      " 16           [-1, 4]  1         0  yolov5.models.common.Concat             [1]                           \n",
      " 17                -1  1     90880  yolov5.models.common.C3                 [256, 128, 1, False]          \n",
      " 18                -1  1    147712  yolov5.models.common.Conv               [128, 128, 3, 2]              \n",
      " 19          [-1, 14]  1         0  yolov5.models.common.Concat             [1]                           \n",
      " 20                -1  1    296448  yolov5.models.common.C3                 [256, 256, 1, False]          \n",
      " 21                -1  1    590336  yolov5.models.common.Conv               [256, 256, 3, 2]              \n",
      " 22          [-1, 10]  1         0  yolov5.models.common.Concat             [1]                           \n",
      " 23                -1  1   1182720  yolov5.models.common.C3                 [512, 512, 1, False]          \n",
      " 24      [17, 20, 23]  1     16182  yolov5.models.yolo.Detect               [1, [[10, 13, 16, 30, 33, 23], [30, 61, 62, 45, 59, 119], [116, 90, 156, 198, 373, 326]], [128, 256, 512]]\n",
      "Model summary: 270 layers, 7022326 parameters, 7022326 gradients\n",
      "\n",
      "Transferred 343/349 items from yolov5s.pt\n",
      "Scaled weight_decay = 0.00036\n",
      "\u001B[34m\u001B[1moptimizer:\u001B[0m SGD with parameter groups 57 weight (no decay), 60 weight, 60 bias\n",
      "\u001B[34m\u001B[1malbumentations: \u001B[0mBlur(always_apply=False, p=0.01, blur_limit=(3, 7)), MedianBlur(always_apply=False, p=0.01, blur_limit=(3, 7)), ToGray(always_apply=False, p=0.01), CLAHE(always_apply=False, p=0.01, clip_limit=(1, 4.0), tile_grid_size=(8, 8))\n",
      "\u001B[34m\u001B[1mtrain: \u001B[0mScanning 'D:\\IT\\Coding\\GitHub Projects\\ml-obj-detection-classification-prob\\venv\\Lib\\site-packages\\yolov5\\..\\..\\..\\..\\data\\proc\\yolo\\00_zombie\\train\\labels' images and labels...224 found, 0 missing, 0 empty, 0 corrupt: 100%|██████████| 224/224 [00:05<00:00, 38.73it/s]\n",
      "\u001B[34m\u001B[1mtrain: \u001B[0mNew cache created: D:\\IT\\Coding\\GitHub Projects\\ml-obj-detection-classification-prob\\venv\\Lib\\site-packages\\yolov5\\..\\..\\..\\..\\data\\proc\\yolo\\00_zombie\\train\\labels.cache\n",
      "\u001B[34m\u001B[1mval: \u001B[0mScanning 'D:\\IT\\Coding\\GitHub Projects\\ml-obj-detection-classification-prob\\venv\\Lib\\site-packages\\yolov5\\..\\..\\..\\..\\data\\proc\\yolo\\00_zombie\\valid\\labels' images and labels...8 found, 0 missing, 0 empty, 0 corrupt: 100%|██████████| 8/8 [00:06<00:00,  1.29it/s]\n",
      "\u001B[34m\u001B[1mval: \u001B[0mNew cache created: D:\\IT\\Coding\\GitHub Projects\\ml-obj-detection-classification-prob\\venv\\Lib\\site-packages\\yolov5\\..\\..\\..\\..\\data\\proc\\yolo\\00_zombie\\valid\\labels.cache\n",
      "Plotting labels to out\\models\\yolov5\\runs\\train\\exp\\labels.jpg... \n",
      "\n",
      "\u001B[34m\u001B[1mAutoAnchor: \u001B[0m3.79 anchors/target, 1.000 Best Possible Recall (BPR). Current anchors are a good fit to dataset \n",
      "Image sizes 416 train, 416 val\n",
      "Using 8 dataloader workers\n",
      "Logging results to \u001B[1mout\\models\\yolov5\\runs\\train\\exp\u001B[0m\n",
      "Starting training for 1 epochs...\n",
      "\n",
      "     Epoch   gpu_mem       box       obj       cls    labels  img_size\n",
      "       0/0        0G   0.07045  0.005117         0        41       416: 100%|██████████| 14/14 [01:17<00:00,  5.53s/it]\n",
      "               Class     Images     Labels          P          R     mAP@.5 mAP@.5:.95:   0%|          | 0/1 [00:00<?, ?it/s]WARNING: NMS time limit 0.340s exceeded\n",
      "               Class     Images     Labels          P          R     mAP@.5 mAP@.5:.95: 100%|██████████| 1/1 [00:01<00:00,  1.83s/it]\n",
      "                 all          8          8    0.00601      0.125    0.00252   0.000755\n",
      "\n",
      "1 epochs completed in 0.022 hours.\n",
      "Optimizer stripped from out\\models\\yolov5\\runs\\train\\exp\\weights\\last.pt, 14.3MB\n",
      "Optimizer stripped from out\\models\\yolov5\\runs\\train\\exp\\weights\\best.pt, 14.3MB\n",
      "\n",
      "Validating out\\models\\yolov5\\runs\\train\\exp\\weights\\best.pt...\n",
      "Fusing layers... \n",
      "               Class     Images     Labels          P          R     mAP@.5 mAP@.5:.95:   0%|          | 0/1 [00:00<?, ?it/s]WARNING: NMS time limit 0.340s exceeded\n",
      "               Class     Images     Labels          P          R     mAP@.5 mAP@.5:.95: 100%|██████████| 1/1 [00:01<00:00,  1.29s/it]\n",
      "                 all          8          8    0.00606      0.125    0.00252   0.000757\n",
      "Results saved to \u001B[1mout\\models\\yolov5\\runs\\train\\exp\u001B[0m\n"
     ]
    },
    {
     "data": {
      "text/plain": "Namespace(weights='yolov5s.pt', cfg='', data='data/proc/yolo/00_zombie/data.yaml', hyp='D:\\\\IT\\\\Coding\\\\GitHub Projects\\\\ml-obj-detection-classification-prob\\\\venv\\\\Lib\\\\site-packages\\\\yolov5\\\\data\\\\hyps\\\\hyp.finetune.yaml', epochs=1, batch_size=16, imgsz=416, rect=False, resume=False, nosave=False, noval=False, noautoanchor=False, evolve=None, bucket='', cache=None, image_weights=False, device='', multi_scale=False, single_cls=True, optimizer='SGD', sync_bn=False, workers=8, project='out/models/yolov5/runs/train', name='exp', exist_ok=False, quad=False, cos_lr=False, label_smoothing=0.0, patience=100, freeze=[0], save_period=-1, local_rank=-1, mmdet_tags=False, entity=None, bbox_interval=-1, artifact_alias='latest', neptune_token=None, neptune_project=None, s3_upload_dir=None, upload_dataset=False, save_dir='out\\\\models\\\\yolov5\\\\runs\\\\train\\\\exp')"
     },
     "execution_count": 3,
     "metadata": {},
     "output_type": "execute_result"
    }
   ],
   "source": [
    "train.run(\n",
    "    data='data/proc/yolo/00_zombie/data.yaml',\n",
    "    weights='yolov5s.pt',\n",
    "    imgsz=416,\n",
    "    batch_size=16,\n",
    "    epochs=1,\n",
    "    single_cls=True,\n",
    "    project='out/models/yolov5/runs/train'\n",
    ")"
   ]
  },
  {
   "cell_type": "code",
   "execution_count": null,
   "outputs": [],
   "source": [
    "%load_ext tensorboard\n",
    "%tensorboard --logdir 'out/models/yolov5/runs/train'"
   ],
   "metadata": {
    "collapsed": false,
    "pycharm": {
     "name": "#%%\n"
    }
   }
  },
  {
   "cell_type": "code",
   "execution_count": 5,
   "metadata": {
    "pycharm": {
     "name": "#%%\n"
    }
   },
   "outputs": [
    {
     "name": "stdout",
     "output_type": "stream",
     "text": [
      "’ҐЄгй п Є®¤®ў п бва ­Ёж : 1251\n",
      "  adding: data/Minecraft-Mobs-1/ (260 bytes security) (stored 0%)\n"
     ]
    }
   ],
   "source": [
    "!zip -r '/content/yolov5/runs.zip' '/content/yolov5/runs'"
   ]
  },
  {
   "cell_type": "code",
   "execution_count": null,
   "metadata": {
    "pycharm": {
     "name": "#%%\n"
    }
   },
   "outputs": [],
   "source": [
    "from google.colab import files\n",
    "\n",
    "files.download('/content/yolov5/runs.zip')"
   ]
  },
  {
   "cell_type": "code",
   "execution_count": null,
   "metadata": {
    "pycharm": {
     "is_executing": true,
     "name": "#%%\n"
    }
   },
   "outputs": [],
   "source": []
  },
  {
   "cell_type": "code",
   "execution_count": null,
   "metadata": {
    "pycharm": {
     "name": "#%%\n"
    }
   },
   "outputs": [],
   "source": []
  },
  {
   "cell_type": "code",
   "execution_count": null,
   "metadata": {
    "collapsed": true,
    "pycharm": {
     "name": "#%%\n"
    }
   },
   "outputs": [],
   "source": []
  }
 ],
 "metadata": {
  "kernelspec": {
   "display_name": "Python 3 (ipykernel)",
   "language": "python",
   "name": "python3"
  },
  "language_info": {
   "codemirror_mode": {
    "name": "ipython",
    "version": 3
   },
   "file_extension": ".py",
   "mimetype": "text/x-python",
   "name": "python",
   "nbconvert_exporter": "python",
   "pygments_lexer": "ipython3",
   "version": "3.10.2"
  }
 },
 "nbformat": 4,
 "nbformat_minor": 1
}